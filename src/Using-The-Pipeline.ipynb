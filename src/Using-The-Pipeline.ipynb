{
 "cells": [
  {
   "cell_type": "code",
   "execution_count": 70,
   "metadata": {},
   "outputs": [],
   "source": [
    "import numpy as np\n",
    "import math as m\n",
    "import pandas as pd\n",
    "import seaborn as sns\n",
    "import matplotlib.pyplot as plt\n",
    "from mpl_toolkits.mplot3d import Axes3D\n",
    "from IPython.core.interactiveshell import InteractiveShell\n",
    "\n",
    "from pandas.plotting import scatter_matrix\n",
    "\n",
    "from sklearn.metrics import confusion_matrix\n",
    "\n",
    "from sklearn.model_selection import LeaveOneOut\n",
    "from sklearn.model_selection import train_test_split\n",
    "from sklearn.model_selection import cross_val_score\n",
    "from sklearn.linear_model import Ridge\n",
    "from sklearn.linear_model import Lasso\n",
    "from sklearn.linear_model import LogisticRegression\n",
    "from sklearn.preprocessing import StandardScaler\n",
    "from sklearn.preprocessing import LabelBinarizer\n",
    "from sklearn.neighbors import KNeighborsClassifier\n",
    "from sklearn.ensemble import GradientBoostingClassifier\n",
    "from sklearn.metrics import mean_squared_error\n",
    "from sklearn.metrics import accuracy_score\n",
    "from sklearn.preprocessing import PolynomialFeatures\n",
    "\n",
    "import graphviz\n",
    "import lime\n",
    "import xgboost as xgb\n",
    "InteractiveShell.ast_node_interactivity = \"all\""
   ]
  },
  {
   "cell_type": "code",
   "execution_count": 135,
   "metadata": {},
   "outputs": [],
   "source": [
    "#############################################################\n",
    "# Pipeline for train.csv\n",
    "#############################################################\n",
    "def pipeline(data):\n",
    "    # Drop empty columns\n",
    "    garbage = ['F25', 'F26', 'F27']\n",
    "    #if garbage in data.columns:\n",
    "    data.drop(garbage, axis=1, inplace=True)\n",
    "            \n",
    "    # Drop columns with very low correlation to label\n",
    "    #low_corr = ['F20', 'F23', 'F21', 'F18', 'F1', 'F24', 'F4',\n",
    "    #        'F11', 'F13', 'F2', 'F15', 'F8', 'F14', 'F22']\n",
    "    #data.drop(low_corr, axis=1, inplace=True)\n",
    "    data.drop(['id'], axis=1, inplace=True)\n",
    "    \n",
    "    # Drop duplicate columns\n",
    "    dups = ['F9', 'F12']\n",
    "    data.drop(dups, axis=1, inplace=True)\n",
    "\n",
    "    # F6\n",
    "    #for i in range(10):\n",
    "    #    data_point = data['F6'].idxmax()\n",
    "    #    data.drop([data_point], inplace=True)\n",
    "    data.F6 = np.log(data.F6)\n",
    "\n",
    "    # F16\n",
    "    data = data[data['F16'] > 115000]\n",
    "    data.F16 -= data.F16.min()\n",
    "    data.F16 /= m.sqrt(data.F16.std())\n",
    "\n",
    "    # F20\n",
    "    #data = data[data.F20 != 12]\n",
    "    \n",
    "    # F3\n",
    "    data.F3 += 1\n",
    "    data.F3 = np.log(data.F3)\n",
    "    \n",
    "    # F4\n",
    "    #data.F4 -= data.F4.mean()\n",
    "    #data.F4 /= m.sqrt(data.F4.std())\n",
    "    \n",
    "    # F5\n",
    "    data = data[data.F5 < 180000]\n",
    "    data.F5 -= data.F5.min()\n",
    "    data.F5 /= m.sqrt(data.F5.std())\n",
    "    \n",
    "    # F7\n",
    "    column = 'F7'\n",
    "    #data.loc[data[column] < 75000, column] = 1\n",
    "    #data.loc[(data[column] < 215000) & (data[column] > 2), column] = 2\n",
    "    #data.loc[data[column] > 215000, column] = 3\n",
    "    \n",
    "    \n",
    "    # F10\n",
    "    column = 'F10'\n",
    "    data = data[data[column] < 200000]\n",
    "    data = data[data[column] > 120000]\n",
    "    data.F10 -= data.F10.min()\n",
    "    data.F10 /= m.sqrt(data.F10.std())\n",
    "    \n",
    "    # F17\n",
    "    column = 'F17'\n",
    "    data.F17 -= data.F17.min()\n",
    "    data.F17 /= m.sqrt(data[column].std())\n",
    "    \n",
    "    # F19\n",
    "    data = data[data.F19 < 300000]\n",
    "    data.F19 /= m.sqrt(data.F19.std())\n",
    "    \n",
    "    return data\n",
    "\n",
    "#############################################################\n",
    "# Pipeline for test.csv\n",
    "#############################################################\n",
    "def testPipeline(data):\n",
    "     # Drop columns with very low correlation to label\n",
    "    #low_corr = ['F20', 'F23', 'F21', 'F18', 'F1', 'F24', 'F4',\n",
    "    #        'F11', 'F13', 'F2', 'F15', 'F8', 'F14', 'F22']\n",
    "    #data.drop(low_corr, axis=1, inplace=True)\n",
    "    data.drop(['id'], axis=1, inplace=True)\n",
    "    \n",
    "       # Drop duplicate columns\n",
    "    dups = ['F9', 'F12']\n",
    "    data.drop(dups, axis=1, inplace=True)\n",
    "\n",
    "    # F6\n",
    "    #for i in range(10):\n",
    "    #    data_point = data['F6'].idxmax()\n",
    "    #    data.drop([data_point], inplace=True)\n",
    "    data.F6 = np.log(data.F6)\n",
    "\n",
    "    # F16\n",
    "    #data = data[data['F16'] > 115000]\n",
    "    data.F16 -= data.F16.min()\n",
    "    data.F16 /= m.sqrt(data.F16.std())\n",
    "\n",
    "    # F20\n",
    "    #data = data[data.F20 != 12]\n",
    "    \n",
    "    # F3\n",
    "    data.F3 += 1\n",
    "    data.F3 = np.log(data.F3)\n",
    "    \n",
    "    # F4\n",
    "    #data.F4 -= data.F4.mean()\n",
    "    #data.F4 /= m.sqrt(data.F4.std())\n",
    "    \n",
    "    # F5\n",
    "    #data = data[data.F5 < 180000]\n",
    "    data.F5 -= data.F5.min()\n",
    "    data.F5 /= m.sqrt(data.F5.std())\n",
    "    \n",
    "    # F7\n",
    "    column = 'F7'\n",
    "    #data.loc[data[column] < 75000, column] = 1\n",
    "    #data.loc[(data[column] < 215000) & (data[column] > 2), column] = 2\n",
    "    #data.loc[data[column] > 215000, column] = 3\n",
    "    \n",
    "    \n",
    "    # F10\n",
    "    column = 'F10'\n",
    "    #data = data[data[column] < 200000]\n",
    "    #data = data[data[column] > 120000]\n",
    "    data.F10 -= data.F10.min()\n",
    "    data.F10 /= m.sqrt(data.F10.std())\n",
    "    \n",
    "    # F17\n",
    "    column = 'F17'\n",
    "    data.F17 -= data.F17.min()\n",
    "    data.F17 /= m.sqrt(data[column].std())\n",
    "    \n",
    "    # F19\n",
    "    #data = data[data.F19 < 300000]\n",
    "    data.F19 /= m.sqrt(data.F19.std())\n",
    "    \n",
    "    return data\n",
    "\n",
    "#############################################################\n",
    "# Writes a file for Kaggle Submission\n",
    "#############################################################\n",
    "def makeFile(pred, filename):\n",
    "    new_index = np.arange(16384,32769,1)\n",
    "    id_col = pd.DataFrame(new_index, columns=['id'], dtype='int32')\n",
    "    y_hat = pd.DataFrame(pred, columns=['Y'])\n",
    "    frames = [id_col, y_hat]\n",
    "    pred = pd.concat(frames, axis=1)\n",
    "    pred.to_csv(filename, encoding='utf-8', index=False)"
   ]
  },
  {
   "cell_type": "code",
   "execution_count": 145,
   "metadata": {},
   "outputs": [],
   "source": [
    "#############################################################\n",
    "# Pipeline 2 for train.csv\n",
    "#############################################################\n",
    "def pipeline2(data):\n",
    "    data = pipeline(data)\n",
    "    features, labels = splitData(data)\n",
    "    poly = PolynomialFeatures(2)\n",
    "    return poly.fit_transform(features), labels\n",
    "\n",
    "#############################################################\n",
    "# Test Pipeline 2 for train.csv\n",
    "#############################################################\n",
    "def testPipeline2(data):\n",
    "    data = testPipeline(data)\n",
    "    poly = PolynomialFeatures(2)\n",
    "    return poly.fit_transform(data)"
   ]
  },
  {
   "cell_type": "code",
   "execution_count": 17,
   "metadata": {},
   "outputs": [],
   "source": [
    "def zeroMean(data, column):\n",
    "    data[column] -= data[column].mean()\n",
    "    data[column] /= m.sqrt(data[column].std())\n",
    "    return data\n",
    "\n",
    "def dropKLargest(data, column, k):\n",
    "    for i in range(k):\n",
    "        data_point = data[column].idxmax()\n",
    "        data.drop([data_point], inplace=True)\n",
    "\n",
    "# TODO        # check this functionality\n",
    "def dropLargestBound(data, column, bound):\n",
    "    data_point = data[column].idxmax()\n",
    "    print(data.iloc[data_point][column])\n",
    "    while(data.iloc[data_point][column] > bound):\n",
    "        data.drop([data_point], axis=0, inplace=True)\n",
    "        data_point = data[column].idxmax()\n",
    "        print(data_point)\n",
    "\n",
    "# Assumes id column has already been stripped\n",
    "def splitData(data):\n",
    "    labels = data['Y']\n",
    "    features = data.drop(['Y'], axis=1)\n",
    "    return features, labels\n",
    "\n",
    "def pltHist(data, column, num_bins=50):\n",
    "    _ = plt.hist(data[column], num_bins, normed=1, facecolor='green', alpha = 0.5)\n",
    "    _ = plt.xlabel(column)\n",
    "    _ = plt.title('Histogram of {}'.format(column))"
   ]
  },
  {
   "cell_type": "code",
   "execution_count": 137,
   "metadata": {},
   "outputs": [],
   "source": [
    "filename = 'train.csv'\n",
    "filepath = ''\n",
    "data = pd.read_csv(filepath + filename)"
   ]
  },
  {
   "cell_type": "markdown",
   "metadata": {},
   "source": [
    "# Gradient Boosting"
   ]
  },
  {
   "cell_type": "code",
   "execution_count": 22,
   "metadata": {},
   "outputs": [],
   "source": [
    "features, labels = splitData(new_data)"
   ]
  },
  {
   "cell_type": "code",
   "execution_count": 64,
   "metadata": {},
   "outputs": [],
   "source": [
    "# Some 5 Fold CV\n",
    "depths = np.arange(3,15,1)\n",
    "scores = np.empty((len(depths), 2))\n",
    "count = 0\n",
    "for depth in depths:\n",
    "    accuracy = [] \n",
    "    for i in range(5):\n",
    "        X_train, X_test, y_train, y_test = train_test_split(features, labels)\n",
    "        clf = GradientBoostingClassifier(loss='exponential', learning_rate=0.1, \n",
    "                                 n_estimators=500, max_depth=depth)\n",
    "        _ = clf.fit(X_train, y_train)\n",
    "        accuracy.append(clf.score(X_test, y_test))\n",
    "        #print(accuracy)\n",
    "    accuracies = np.array(accuracies)\n",
    "    scores[count, 0] = np.mean(accuracies, axis=0)\n",
    "    scores[count, 1] = np.std(accuracies, axis=0)\n",
    "    count += 1"
   ]
  },
  {
   "cell_type": "code",
   "execution_count": 65,
   "metadata": {},
   "outputs": [
    {
     "data": {
      "image/png": "[encoded data removed]",
      "text/plain": [
       "<matplotlib.figure.Figure at 0x7fc10b247128>"
      ]
     },
     "metadata": {},
     "output_type": "display_data"
    }
   ],
   "source": [
    "_ = plt.plot(depths, scores[:,0], label=\"Fold {}\".format(i))\n",
    "_ = plt.xlabel(\"Max Depth\", fontsize=12)\n",
    "_ = plt.ylabel(\"Accuracy\", fontsize=12)\n",
    "_ = plt.suptitle(\"Max Depth vs. Accuracy\", fontsize=15)"
   ]
  },
  {
   "cell_type": "code",
   "execution_count": 68,
   "metadata": {},
   "outputs": [],
   "source": [
    "clf = GradientBoostingClassifier(loss='exponential', learning_rate=0.1, \n",
    "                                 n_estimators=500, max_depth=6, subsample=0.5)\n",
    "_ = clf.fit(features, labels)\n",
    "test_data = pd.read_csv('test.csv')\n",
    "test_data = testPipeline(test_data)\n",
    "pred = clf.predict(test_data)\n",
    "makeFile(pred, 'prediction-pipelined-gradboost.csv')"
   ]
  },
  {
   "cell_type": "markdown",
   "metadata": {},
   "source": [
    "#### Lets try some polynomial data"
   ]
  },
  {
   "cell_type": "code",
   "execution_count": 138,
   "metadata": {},
   "outputs": [
    {
     "name": "stderr",
     "output_type": "stream",
     "text": [
      "/mnt/c/programming/Kaggle-Midterm/lib/python3.5/site-packages/pandas/core/generic.py:3643: SettingWithCopyWarning: \n",
      "A value is trying to be set on a copy of a slice from a DataFrame.\n",
      "Try using .loc[row_indexer,col_indexer] = value instead\n",
      "\n",
      "See the caveats in the documentation: http://pandas.pydata.org/pandas-docs/stable/indexing.html#indexing-view-versus-copy\n",
      "  self[name] = value\n"
     ]
    }
   ],
   "source": [
    "poly_data, labels = pipeline2(data)"
   ]
  },
  {
   "cell_type": "code",
   "execution_count": 139,
   "metadata": {},
   "outputs": [],
   "source": [
    "clf = GradientBoostingClassifier(loss='exponential', learning_rate=0.1, \n",
    "                                 n_estimators=500, max_depth=6, subsample=0.5)\n",
    "_ = clf.fit(poly_data, labels)"
   ]
  },
  {
   "cell_type": "code",
   "execution_count": 146,
   "metadata": {},
   "outputs": [],
   "source": [
    "test_data = pd.read_csv('test.csv')\n",
    "test_data = testPipeline2(test_data)\n",
    "pred = clf.predict(test_data)\n",
    "makeFile(pred, 'prediction-pipelined-polynomial-gradboost.csv')"
   ]
  },
  {
   "cell_type": "markdown",
   "metadata": {},
   "source": [
    "That one didnt do very well either."
   ]
  },
  {
   "cell_type": "markdown",
   "metadata": {},
   "source": [
    "## A different direction\n",
    "Lets polynomial fit all the features and drop the ones that have less than one percent correlation with the labels."
   ]
  },
  {
   "cell_type": "code",
   "execution_count": 163,
   "metadata": {},
   "outputs": [],
   "source": [
    "data = pd.read_csv('train.csv')"
   ]
  },
  {
   "cell_type": "code",
   "execution_count": 164,
   "metadata": {},
   "outputs": [
    {
     "name": "stderr",
     "output_type": "stream",
     "text": [
      "/mnt/c/programming/Kaggle-Midterm/lib/python3.5/site-packages/pandas/core/generic.py:3643: SettingWithCopyWarning: \n",
      "A value is trying to be set on a copy of a slice from a DataFrame.\n",
      "Try using .loc[row_indexer,col_indexer] = value instead\n",
      "\n",
      "See the caveats in the documentation: http://pandas.pydata.org/pandas-docs/stable/indexing.html#indexing-view-versus-copy\n",
      "  self[name] = value\n"
     ]
    }
   ],
   "source": [
    "data = pipeline(data)\n",
    "features, labels = splitData(data)\n",
    "poly = PolynomialFeatures(2)\n",
    "poly_data = poly.fit_transform(features)\n",
    "poly_data = pd.DataFrame(poly_data[1:,1:])\n",
    "frames = [labels, poly_data]\n",
    "full_poly_data = pd.concat(frames, axis=1)"
   ]
  },
  {
   "cell_type": "code",
   "execution_count": 165,
   "metadata": {},
   "outputs": [
    {
     "data": {
      "image/png": "[encoded data removed]",
      "text/plain": [
       "<matplotlib.figure.Figure at 0x7fc10b221c18>"
      ]
     },
     "metadata": {},
     "output_type": "display_data"
    }
   ],
   "source": [
    "fig, ax = plt.subplots(figsize=(10,10))\n",
    "_ = plt.imshow(full_poly_data.corr())\n",
    "_ = plt.colorbar()"
   ]
  },
  {
   "cell_type": "code",
   "execution_count": 167,
   "metadata": {},
   "outputs": [
    {
     "name": "stdout",
     "output_type": "stream",
     "text": [
      "Y     1.000000\n",
      "1     0.019511\n",
      "17    0.019103\n",
      "22    0.018806\n",
      "16    0.018035\n",
      "18    0.015265\n",
      "20    0.015088\n",
      "19    0.013773\n",
      "21    0.013420\n",
      "38    0.012849\n",
      "35    0.011926\n",
      "40    0.010355\n",
      "5     0.010187\n",
      "14    0.010089\n",
      "26    0.009978\n",
      "34    0.006724\n",
      "9     0.005684\n",
      "36    0.005186\n",
      "4     0.004446\n",
      "13    0.003842\n",
      "25    0.003689\n",
      "37    0.003345\n",
      "43    0.002858\n",
      "6     0.002775\n",
      "27    0.002741\n",
      "8     0.002506\n",
      "11    0.002241\n",
      "42    0.002104\n",
      "10    0.002040\n",
      "15    0.001712\n",
      "39    0.001439\n",
      "0     0.001362\n",
      "41   -0.000291\n",
      "7    -0.000297\n",
      "32   -0.001246\n",
      "23   -0.002102\n",
      "28   -0.002116\n",
      "2    -0.002178\n",
      "31   -0.002663\n",
      "30   -0.003547\n",
      "12   -0.003996\n",
      "33   -0.013180\n",
      "3    -0.014116\n",
      "29   -0.014784\n",
      "24   -0.015610\n",
      "Name: Y, dtype: float64\n"
     ]
    }
   ],
   "source": [
    "corr_matrix = full_poly_data.corr()\n",
    "print(corr_matrix['Y'].sort_values(ascending=False))"
   ]
  },
  {
   "cell_type": "code",
   "execution_count": null,
   "metadata": {},
   "outputs": [],
   "source": []
  }
 ],
 "metadata": {
  "kernelspec": {
   "display_name": "Python 3",
   "language": "python",
   "name": "python3"
  },
  "language_info": {
   "codemirror_mode": {
    "name": "ipython",
    "version": 3
   },
   "file_extension": ".py",
   "mimetype": "text/x-python",
   "name": "python",
   "nbconvert_exporter": "python",
   "pygments_lexer": "ipython3",
   "version": "3.5.2"
  }
 },
 "nbformat": 4,
 "nbformat_minor": 2
}
